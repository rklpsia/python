{
  "nbformat": 4,
  "nbformat_minor": 0,
  "metadata": {
    "colab": {
      "provenance": [],
      "authorship_tag": "ABX9TyPdEA9qSm95IKb+H+li2Mug",
      "include_colab_link": true
    },
    "kernelspec": {
      "name": "python3",
      "display_name": "Python 3"
    },
    "language_info": {
      "name": "python"
    }
  },
  "cells": [
    {
      "cell_type": "markdown",
      "metadata": {
        "id": "view-in-github",
        "colab_type": "text"
      },
      "source": [
        "<a href=\"https://colab.research.google.com/github/rklpsia/python/blob/main/OO%D0%9F.ipynb\" target=\"_parent\"><img src=\"https://colab.research.google.com/assets/colab-badge.svg\" alt=\"Open In Colab\"/></a>"
      ]
    },
    {
      "cell_type": "markdown",
      "source": [
        "Задача 27: Определите класс Gadget с полями название, тип и цена. Реализуйте методы update_price(new_price), который обновляет цену, и display_info(), который выводит информацию о гаджете."
      ],
      "metadata": {
        "id": "1uf5xA9qVwD_"
      }
    },
    {
      "cell_type": "code",
      "execution_count": null,
      "metadata": {
        "id": "r6b0Wni9Qi3l"
      },
      "outputs": [],
      "source": [
        "class gadget:\n",
        "    def __init__(self,name, ttype,price):\n",
        "        self.name = name\n",
        "        self.ttype = ttype\n",
        "        self.price = price\n",
        "    def update_price(self,new_price):\n",
        "        self.price = new_price\n",
        "    def display_info(self):\n",
        "        print(f' name : {self.name} ttype : {self.ttype} price: {self.price}')\n",
        "\n",
        "x = gadget('iphone',16,93000)\n",
        "x.update_price(100000)\n",
        "print(x.price)\n",
        "x.display_info()"
      ]
    },
    {
      "cell_type": "markdown",
      "source": [
        "Определите класс Transaction, который наследуется от класса Invoice. Класс Transaction должен добавлять методы для обновления суммы и отображения информации о финансовой операции."
      ],
      "metadata": {
        "id": "6SiRxQUkVuIn"
      }
    },
    {
      "cell_type": "code",
      "source": [
        "class Invoice:\n",
        "    def __init__(self,name, number):\n",
        "        self.name = name\n",
        "        self.number = number\n",
        "class Transaction(Invoice):\n",
        "    def __init__(self,name,number, sum, data, number2):\n",
        "        super().__init__(name,number)\n",
        "        self.sum = sum\n",
        "        self.data = data\n",
        "        self.number2 = number2\n",
        "    def display_info(self):\n",
        "        print(f' number:{self.number} sum:{self.sum} data:{self.data} number2: {self.number2}')\n",
        "    def change_sum(self,new_sum):\n",
        "        self.sum = new_sum\n",
        "\n",
        "x = Transaction(\"\",2433,50000,\"24.04.2025\",2499)\n",
        "x.display_info()\n",
        "x.change_sum(100000)\n",
        "\n",
        "x.display_info()\n"
      ],
      "metadata": {
        "id": "SQXJWAiTa-es"
      },
      "execution_count": null,
      "outputs": []
    },
    {
      "cell_type": "markdown",
      "source": [
        "Создать класс Transaction, в котором поля transactionType, amount и date будут приватными. Реализовать методы для безопасного изменения суммы и доступа к информации о транзакции."
      ],
      "metadata": {
        "id": "SPh4FjT2bEYg"
      }
    },
    {
      "cell_type": "code",
      "source": [
        "class Transaction():\n",
        "    def __init__(self,transactionType, amount,date ):\n",
        "        self.__transactionType =transactionType\n",
        "        self.__amount = amount\n",
        "        self.__date = date\n",
        "    def Type(self):\n",
        "        return self.__transactionType\n",
        "    def Amountt(self):\n",
        "        return self.__amount\n",
        "    def Tdata(self):\n",
        "        return self.__date\n",
        "    def info_Trans(self):\n",
        "        print( f' transactionType:{self.Type()} Amount: {self.Amountt()} Data: {self.Tdata()}')\n",
        "    def set_amount(self,new_am):\n",
        "        self.__amount = new_am\n",
        "\n",
        "\n",
        "x = Transaction(\"Aphone\",2433,50000)\n",
        "x.set_amount(15)\n",
        "x.info_Trans()"
      ],
      "metadata": {
        "id": "lqXU5e_Cbekg"
      },
      "execution_count": null,
      "outputs": []
    },
    {
      "cell_type": "markdown",
      "source": [
        "Поезд и вагон. Создайте класс `Поезд`, состоящий из вагонов. В классе `Поезд` реализуйте метод для добавления вагонов. Класс `Вагон` должен содержать поле `номер вагона`. Вагоны не могут существовать отдельно от поезда."
      ],
      "metadata": {
        "id": "IrbR9o2HbEJL"
      }
    },
    {
      "cell_type": "code",
      "source": [
        "class Train:\n",
        "    def __init__(self, Name_train):\n",
        "        self.name = Name_train\n",
        "        self.carriage = []  # Список carriage\n",
        "\n",
        "    def add_c(self, number, number_of_seats):\n",
        "        \"\"\"Добавить new carriage\"\"\"\n",
        "        new_carriage = self.Carriagee(number, number_of_seats)\n",
        "        self.carriage.append(new_carriage)\n",
        "\n",
        "    def print_info(self):\n",
        "        \"\"\"Вывести информацию о carriage\"\"\"\n",
        "        print(f\"Название поезда: {self.name}\")\n",
        "        print(\"Список вагонов:\")\n",
        "        for c in self.carriage:\n",
        "            print(f\"- {c.number} ({c.number_of_seats} seats)\")\n",
        "\n",
        "    class Carriagee:\n",
        "        def __init__(self, number, seats):\n",
        "            self.number = number\n",
        "            self.number_of_seats = seats\n",
        "\n",
        "# Пример использования\n",
        "\n",
        "# Создаем\n",
        "train = Train(\"First\")\n",
        "# Добавляем\n",
        "train.add_c(\"Часть 1\", 100)\n",
        "train.add_c(\"Часть 2\", 120)\n",
        "train.add_c(\"Часть 3\", 150)\n",
        "\n",
        "# Выводим информацию\n",
        "train.print_info()\n",
        "\n"
      ],
      "metadata": {
        "id": "FpF2H76vCY16"
      },
      "execution_count": null,
      "outputs": []
    },
    {
      "cell_type": "markdown",
      "source": [
        "Задача 27. Музыкальный альбом и песня. Создайте класс `Альбом`, в который входят песни. У класса `Песня` есть поля `название` и `продолжительность`. Песни могут существовать независимо от альбома."
      ],
      "metadata": {
        "id": "tes1a8RBbEFk"
      }
    },
    {
      "cell_type": "code",
      "source": [
        "# Класс \"Студент\"\n",
        "class Song:\n",
        "    def __init__(self, name, time):\n",
        "        self.name = name\n",
        "        self.time = time\n",
        "\n",
        "    def get_name(self):\n",
        "        return self.name  # Возвращает название\n",
        "\n",
        "    def get_time(self):\n",
        "        return self.time  # Возвращает продолжительность\n",
        "\n",
        "    def display_info(self):\n",
        "        print(f\"Название: {self.name}, Продолжительность: {self.time}\")\n",
        "\n",
        "\n",
        "# Класс \"Группа\"\n",
        "class Album:\n",
        "    def __init__(self):\n",
        "        self.songs = []  # Список студентов\n",
        "\n",
        "    def add_song(self, song):\n",
        "        self.songs.append(song)  # Добавляем\n",
        "\n",
        "    def display_songs(self):\n",
        "        print(\"Список песен в альбоме:\")\n",
        "        for s in self.songs:\n",
        "            s.display_info()  # Выводим\n",
        "\n",
        "\n",
        "Song1 = Song(\"Dreams\", 2)\n",
        "Song2 = Song(\"Маgic\", 2.2)\n",
        "Song3 = Song(\"What do you need?\", 3)\n",
        "\n",
        "# Создание группы и добавление студентов\n",
        "Kreed = Album()\n",
        "Kreed.add_song(Song1)\n",
        "Kreed.add_song(Song2)\n",
        "Kreed.add_song(Song3)\n",
        "\n",
        "# Вывод списка студентов в группе\n",
        "Kreed.display_songs()\n"
      ],
      "metadata": {
        "id": "T9WJkPP0LdQ3"
      },
      "execution_count": null,
      "outputs": []
    },
    {
      "cell_type": "markdown",
      "source": [
        "Задача 27. Определить абстрактный класс Tool с абстрактными методами use() и maintain(). Реализовать подклассы Hammer и Screwdriver, которые реализуют методы use() и maintain()."
      ],
      "metadata": {
        "id": "Duusa_GrbDgP"
      }
    },
    {
      "cell_type": "code",
      "source": [
        "import abc\n",
        "\n",
        "# Абстрактный класс Tool\n",
        "class Tool(abc.ABC):\n",
        "    # Абстрактный методы\n",
        "    @abs.abstractmethod\n",
        "    def use(self):\n",
        "        pass\n",
        "\n",
        "    @abc.abstractmethod\n",
        "    def maintain(self):\n",
        "        pass\n",
        "\n",
        "# Подкласс\n",
        "class Hammer(Tool):\n",
        "    def use(self):\n",
        "        print(\"Молоток!\")  # Реализация метода\n",
        "\n",
        "    def maintain(self):\n",
        "        print(\"Используют для забивания гвоздей\")  # Реализация метода\n",
        "\n",
        "# Подкласс\n",
        "class Screwdriver(Tool):\n",
        "    def use(self):\n",
        "        print(\"Отвертка!\")  # Реализация метоda\n",
        "\n",
        "    def maintain(self):\n",
        "        print(\"Используют для закручивания болтов.\")  # Реализация метoda\n",
        "\n",
        "# Пример использования\n",
        "A = Screwdriver()\n",
        "A.use()\n",
        "A.maintain()"
      ],
      "metadata": {
        "id": "jJEHaHvDiXWO"
      },
      "execution_count": null,
      "outputs": []
    },
    {
      "cell_type": "markdown",
      "source": [
        "Создать интерфейс IGadget, который содержит методы updatePrice(double price) и getGadgetInfo(). Создать класс Gadget, реализующий этот интерфейс. Класс должен содержать поля name, type и price."
      ],
      "metadata": {
        "id": "WwRiJMB2pQFm"
      }
    },
    {
      "cell_type": "code",
      "source": [
        "from abc import ABC, abstractmethod\n",
        "\n",
        "class IGadget(ABC):\n",
        "    @abstractmethod\n",
        "    def updatePrice(self,price):\n",
        "        pass\n",
        "    def getGadgetInfo(self):\n",
        "        pass\n",
        "\n",
        "# Класс Gadget, реализующий интерфейс IGadget\n",
        "class Gadget(IGadget):\n",
        "    def __init__(self, name, type,price):\n",
        "        self.Name = name\n",
        "        self.type = type\n",
        "        self.price = price\n",
        "\n",
        "    # Реализация методov\n",
        "    def updatePrice(self,new_price):\n",
        "        self.price = new_price\n",
        "\n",
        "    # Метод для отображения информации о Gadget\n",
        "    def getGadgetInfo(self):\n",
        "        print(f\"Name: {self.Name}, Type: {self.type}, price: {self.price}\")\n",
        "\n",
        "\n",
        "# Пример использования\n",
        "a = Gadget(\"Alice\", 30, 100)\n",
        "a.getGadgetInfo()\n",
        "a.updatePrice(31)\n",
        "a.getGadgetInfo()\n"
      ],
      "metadata": {
        "id": "06rtwK8ipsgW"
      },
      "execution_count": null,
      "outputs": []
    },
    {
      "cell_type": "markdown",
      "source": [
        "Задача 27. Определите метод execute() в классе Transaction, который будет выполнять финансовую операцию. Создайте подклассы Deposit и Withdrawal, которые будут переопределять этот метод для выполнения специфических операций."
      ],
      "metadata": {
        "id": "8aoZ4uEIwob6"
      }
    },
    {
      "cell_type": "code",
      "source": [
        "# Базовый класс\n",
        "class Transaction:\n",
        "    def __init__(self, bank_acc1,bank_acc2,amount):\n",
        "        self.bank_acc1 = bank_acc1\n",
        "        self.bank_acc2 = bank_acc2\n",
        "        self.amount = amount\n",
        "\n",
        "    def execute(self):\n",
        "        self.bank_acc2 += self.amount\n",
        "        self.bank_acc1 -= self.amount\n",
        "    def get_Info(self):\n",
        "        print(self.bank_acc1,\"Sum = \", self.amount,self.bank_acc2)\n",
        "\n",
        "# Подкласс\n",
        "class Deposit(Transaction):\n",
        "    def execute(self):\n",
        "        self.bank_acc2 += self.amount\n",
        "\n",
        "# Подкласс\n",
        "class Withdrawal(Transaction):\n",
        "    def execute(self):\n",
        "        self.bank_acc2 -= self.amount\n",
        "\n",
        "# Пример использования\n",
        "a = Deposit(5,15,10)\n",
        "c = Transaction(5,15,10)\n",
        "b = Withdrawal(50,20,20)\n",
        "a.execute()\n",
        "b.execute()\n",
        "c.execute()\n",
        "a.get_Info()\n",
        "b.get_Info()\n",
        "c.get_Info()"
      ],
      "metadata": {
        "id": "fZ1L45o4zJcV"
      },
      "execution_count": null,
      "outputs": []
    }
  ]
}
