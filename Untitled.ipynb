{
  "nbformat": 4,
  "nbformat_minor": 0,
  "metadata": {
    "colab": {
      "provenance": [],
      "authorship_tag": "ABX9TyOV1C6iLpkS/P+dDWYxfOrd",
      "include_colab_link": true
    },
    "kernelspec": {
      "name": "python3",
      "display_name": "Python 3"
    },
    "language_info": {
      "name": "python"
    }
  },
  "cells": [
    {
      "cell_type": "markdown",
      "metadata": {
        "id": "view-in-github",
        "colab_type": "text"
      },
      "source": [
        "<a href=\"https://colab.research.google.com/github/rklpsia/python/blob/main/Untitled.ipynb\" target=\"_parent\"><img src=\"https://colab.research.google.com/assets/colab-badge.svg\" alt=\"Open In Colab\"/></a>"
      ]
    },
    {
      "cell_type": "markdown",
      "source": [
        "![image.png](data:image/png;base64,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)\n",
        "\n"
      ],
      "metadata": {
        "id": "qGGR7p4FyO5P"
      }
    },
    {
      "cell_type": "code",
      "source": [
        "\n",
        "x = int(input())\n",
        "z = (x**2 - 7*x +10)/(x**2-8*x+12)\n",
        "print('z =',z)\n"
      ],
      "metadata": {
        "id": "3R9yXZrqxwjo"
      },
      "execution_count": null,
      "outputs": []
    },
    {
      "cell_type": "markdown",
      "source": [
        "![image.png](data:image/png;base64,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)"
      ],
      "metadata": {
        "id": "_bxSjDWkyNzx"
      }
    },
    {
      "cell_type": "markdown",
      "source": [],
      "metadata": {
        "id": "SFt0YbJ4LPP9"
      }
    },
    {
      "cell_type": "code",
      "execution_count": null,
      "metadata": {
        "id": "9oTFSQAOxmQ3"
      },
      "outputs": [],
      "source": [
        "import math\n",
        "x = int(input())\n",
        "y = (1- math.cos(2*x)+math.sin(2*x))/(1+ math.cos(2*x)+math.sin(2*x))\n",
        "print('y =',y)"
      ]
    },
    {
      "cell_type": "markdown",
      "source": [
        "Заданы координаты трех вершин треугольника (x1,y1), (x2,y2), (x3,y3).Найти его периметр и площадь."
      ],
      "metadata": {
        "id": "HP8I6UYCzB8L"
      }
    },
    {
      "cell_type": "code",
      "source": [
        "import math\n",
        "x1,y1 = map(int, input().split())\n",
        "x2,y2 = map(int, input().split())\n",
        "x3,y3 = map(int, input().split())\n",
        "\n",
        "a=math.sqrt((x2-x1)**2+(y2-y1)**2)\n",
        "b=math.sqrt((x3-x2)**2+(y3-y2)**2)\n",
        "c=math.sqrt((x3-x1)**2+(y3-y1)**2)\n",
        "P=a+b+c\n",
        "p2=P/2\n",
        "S=math.sqrt(p2*(p2-a)*(p2-b)*(p2-c))\n",
        "print('P =',P)\n",
        "print('S =',S)"
      ],
      "metadata": {
        "id": "dv2nbaJ7yGHv"
      },
      "execution_count": null,
      "outputs": []
    },
    {
      "cell_type": "markdown",
      "source": [
        "4) Даны целые положительные числа A и B (A > B). На отрезке длины A размещено максимально возможное количество отрезков длины B (без наложений). Используя операцию деления нацело, найти количество отрезков B, размещенных на отрезке A."
      ],
      "metadata": {
        "id": "IAay9F78zF4s"
      }
    },
    {
      "cell_type": "code",
      "source": [
        "a,b = map(int, input().split())\n",
        "\n",
        "print(a//b)\n"
      ],
      "metadata": {
        "id": "YNZLApCxzFca"
      },
      "execution_count": null,
      "outputs": []
    },
    {
      "cell_type": "markdown",
      "source": [
        "5)Даны координаты двух различных полей шахматной доски x1, y1,\n",
        "x2, y2 (целые числа, лежащие в диапазоне 1–8). Проверить истинность высказывания: «Конь за один ход может перейти с одного поля на другое»\n",
        "\n"
      ],
      "metadata": {
        "id": "YV-2zD54zNlR"
      }
    },
    {
      "cell_type": "code",
      "source": [
        "x1,y1 = map(int, input().split())\n",
        "x2,y2 = map(int, input().split())\n",
        "a = (abs(x1 - x2) == 1 and abs(y1 - y2) == 2 or abs(x1 - x2) == 2 and abs(y1 - y2) == 1)\n",
        "print(a)"
      ],
      "metadata": {
        "id": "XWi0wrX9zOO-"
      },
      "execution_count": null,
      "outputs": []
    },
    {
      "cell_type": "markdown",
      "source": [
        "# Новый раздел\n",
        "\n",
        "1)\tДля данного вещественного x найти значение следующей функции f, принимающей вещественные знач![image.png](data:image/png;base64,iVBORw0KGgoAAAANSUhEUgAAAX4AAABxCAMAAADlJTivAAAAAXNSR0IArs4c6QAAAARnQU1BAACxjwv8YQUAAAMAUExURQAAAAAAAAAAAAAAAAAAAAAAAAAAAAAAAAAAAAAAAAAAAAAAAAAAAAAAAAAAAAAAAAAAAAAAAAAAAAAAAAAAAAAAAAAAAAAAAAAAAAAAAAAAAAAAAAAAAAAAAAAAAAAAAAAAAAAAAAAAAAAAAAAAAAAAAAAAAAAAAAAAAAAAAAAAAAAAAAAAAAAAAAAAAAAAAAAAAAAAAAAAAAAAAAAAAAAAAAAAAAAAAAAAAAAAAAAAAAAAAAAAAAAAAAAAAAAAAAAAAAAAAAAAAAAAAAAAAAAAAAAAAAAAAAAAAAAAAAAAAAAAAAAAAAAAAAAAAAAAAAAAAAAAAAAAAAAAAAAAAAAAAAAAAAAAAAAAAAAAAAAAAAAAAAAAAAAAAAAAAAAAAAAAAAAAAAAAAAAAAAAAAAAAAAAAAAAAAAAAAAAAAAAAAAAAAAAAAAAAAAAAAAAAAAAAAAAAAAAAAAAAAAAAAAAAAAAAAAAAAAAAAAAAAAAAAAAAAAAAAAAAAAAAAAAAAAAAAAAAAAAAAAAAAAAAAAAAAAAAAAAAAAAAAAAAAAAAAAAAAAAAAAAAAAAAAAAAAAAAAAAAAAAAAAAAAAAAAAAAAAAAAAAAAAAAAAAAAAAAAAAAAAAAAAAAAAAAAAAAAAAAAAAAAAAAAAAAAAAAAAAAAAAAAAAAAAAAAAAAAAAAAAAAAAAAAAAAAAAAAAAAAAAAAAAAAAAAAAAAAAAAAAAAAAAAAAAAAAAAAAAAAAAAAAAAAAAAAAAAAAAAAAAAAAAAAAAAAAAAAAAAAAAAAAAAAAAAAAAAAAAAAAAAAAAAAAAAAAAAAAAAAAAAAAAAAAAAAAAAAAAAAAAAAAAAAAAAAAAAAAAAAAAAAAAAAAAAAAAAAAAAAAAAAAAAAAAAAAAAAAAAAAAAAAAAAAAAAAAAAAAAAAAAAAAAAAAAAAAAAAAAAAAAAAAAAAAAAAAAAAAAAAAAAAAAAAAAAAAAAAAAAAAAAAAAAAAAAAAAAAAAAAAAAAAAAAAAAAAAAAAAALMw9IgAAAD/dFJOUwABAgMEBQYHCAkKCwwNDg8QERITFBUWFxgZGhscHR4fICEiIyQlJicoKSorLC0uLzAxMjM0NTY3ODk6Ozw9Pj9AQUJDREVGR0hJSktMTU5PUFFSU1RVVldYWVpbXF1eX2BhYmNkZWZnaGlqa2xtbm9wcXJzdHV2d3h5ent8fX5/gIGCg4SFhoeIiYqLjI2Oj5CRkpOUlZaXmJmam5ydnp+goaKjpKWmp6ipqqusra6vsLGys7S1tre4ubq7vL2+v8DBwsPExcbHyMnKy8zNzs/Q0dLT1NXW19jZ2tvc3d7f4OHi4+Tl5ufo6err7O3u7/Dx8vP09fb3+Pn6+/z9/usI2TUAAAAJcEhZcwAAFxEAABcRAcom8z8AABRDSURBVHhe7Z13XBTXFscvXVlAqhRhhdhBsGFssQURNWJii/HZFWOsYIwxz26M5hkTLCggamxExShK7BFLYixRg9EoWDHYFtEoKKJLO++2ZWcWdlmRZf28N98/5p47W1h+c+fWc88gCQkJCQkJif8NzHkqUfVYjUn83ITbElVNhztHQmy4LVHV1IGl3JIwAnt3ckOMx/QIR25KGA7n5825JaLB2aTMO948I2EwArOduCXE5PO3UY3nm3hOwmD866Ept4SYkGvyfQrLSBiOEdkW3CpF4nfc0EZ1v0BbbupHgz6NuPUmYNOi8av9fAMw7Ik2+Wsed+GWFob9A3B3HM/oQf3kI7tSj9flOaMz6zn++cN4xlhol3/x+9zQQnjemq/OAgzi2XKp8yTGBNW8d7cOzxuZWUVrIjMABvKskdAq/+Ap3NBC3UM+uI3YDhd4vlyOZJOhdQ84xbJVhPnEDtwSU/dobYRczlXxrymFNvnb41Jt4sozZdGoPjm2gnSaKxO5sFPVHA6TpFomhNB8leA8705mMLfFNKpHjp3gFs0ZDS3yD8hYErlkd/n1RKCuMXPqV9wgTIM4mv4KG2laBfh+n3UxrBrPlEkbWMItI6GW38an7TskfbcTQqYzYjfGx39Oz+tkfKo1SSw8GneV4dSzj7Avcf1rbhBi4VearoZUHfN7vaJO/jKemX4rdx9fSRpq903bN2/btm1z/I44+6U7439I7IoW7YjfktiMvm1h0ub47xuarovftcyMnlARsj9z17vEaPKeAHGJ+iqN/nzUb387mlY5avl7b38JzZHFdoC3+Jnycfod16CY+ov/gijciy2GxTTPuLKAG4QlwIYRMZCuXf7ILR26JMFWYo54PCFgCDzCY3LL9jeOh4SEpMGmd8xbHwb4xA21uASF/WrQjwQsBthugcbCwVaC77UMO33jGy9mL7gkYAQ7x3A5y95i+ZiXjSpHWPmMgC1o2pyxYaxElIuJd7+Uok2eLOOgKLIOXBEWHsiyFJH8/aCwNUnXwUWt8o89To5HAJf/thCBzUQ4Ss6MisaHJPgAHzuy2noye4EyDa7K0OJUQdmv9emRY8Or84w2TLwHpRfGWFE77NyHNK1yhPKbKrI/C+O2HpiPP5kPcJF//ktYOlujnr08ixsE+7/hsDkeed2E3fxMKSweLW0RGNg8AW4gdCGHnGmZOpUkg1fhw17ax+0Bv+FjwyzYQF5gHIbFPR7X5BlCFKSWfwezn79f/e8bA1HTuwP2cUsD+UcCAvhJjHwtwGBmdoFCf2ZhAukb7+2kiTs71+omXI+MjH0Jc1i+NG/l/7YHs3f/DyaeotpgmFB+3FV0/3EpxNNXKD7PijKEdx2y6rTzyd6uPINqNRbgzE9SBD/fSIjkH6itH9M1RcAEfpLyM/zIjOoPnqsXbf5N3/hCQZO2/KTD8NWLOrxbmMer5NJ0hFHcQt1pIVchkv80sj3QbIhQflxrXuRWCX5RWWdGsTXUzw4I6EdPlfAzbOeWcRDJP+LVRyGh8BMzbDOhDbNKSJ3LDQFJOvqdY2ARt9BHcEfQQgyKxQd15bNmHIoQyR8GsIybauynXkz7UlTYyyAUdnDLOAjld1l1pcCN2/rir/rHx+8HWk8LuCLs9zOawUM5N0vTFW6x9rNltTqF0J6aHUnXc9Y6fFDJf2DBQoTChfK3T+mVDxrFmhKafG297kk+P/gPt4yDUP5pDaOgF7JgnQE9aUH7I7j/F+FLGg7S+S9B1POhWJ+D7twsA5enQBtrq1gry7u4F4aRbXPAx1gyYlPJn0tuEaH8Vje7oEnwgDcxYvxjbvfiZpm0hyBuGQeV/GZWaNA8NBz//0PL/D9KYdKAJodJb16GnDe5mT/NRM1EEwql5Df7CYZQo9vqMufzEgCiWsmb7sLNYTjAFHvUJDkc+QajQxPxi0m0gHeBO5Y4GQPryQco+77Eh5/hmHjUpaIW7xlrYEnnTNDJH8jRNGy1/mOdSkUl/8zba7dWQw3gVrSeUzJT4cJI79Y7buFxl3fWD4fxUDkZNk0TDRkeaDTkHc7f7kgNTwCgA1INXM/hF4DNTmwGyL4NaxBKgT8f+SGZ5wP42tnUdgpAEzOTmnvhtCf74c7roBYWcCjAVkcdw2lN1sGvI996d88vtK/cEuCGHT1d1ajkH/b0CL7NzRPvkTtcH4LOFhSlH5xO9HZLe9IbJ/3SN4qHOnOE973H6KjkCfx1u2TFP5HMFGMTdy3nIl9CmHkn7yoZo449cwp/e69PY6OjRssGfBcd8++aVhPjoqM/ZwPuYeti8B3lPj06ev3wV/AW63u1uOjKHt7T8jifXjCUmVVMSd3Pr77OGSoxjk6qfoUZk1VnoyGrL2zVZbG4/SwLc7V/RXWDulqYOjqxWQuCBTpmnGGvsOmtSpL9uPFm4HtQz5mWSsY48teO4tOabwhN+fRplWMU+f1ie3DrzaB9XGNuVTVGkb+8yciqRjRaqVKMVfdLUCT5jYokv1GR5DcqkvxGRZLfqEjyGxVJfqMiyV9xOo+a/x43UQ97bjA8yppPLwNJ/goTt8lrATB/eafIkWQRSI1lxO5y3PMZkvwVJTbXDPU5RAu93S+lp6vnXtNHf0n+ChIIw7mF0Omy/HO2pOix+CbJX0EOvyzxJp4FZa1UWmVHcUsH/3oqyV8RBgNdpCd4KNXL/kI2Qdmr/EKmXylrZ6OETsx8RjyDSSqPkG9VbgNmTnXeIYXZtStddh2pR7yADWpPYe34jJFuESG2i3cV5y/j3sgWN4p9mOW79Ap8ievzAphNsk2LH5a7sJFO36kLiw4/5im4LcFxyqe+8ITmcLfEP0Gek2cauOrTma1IxiWPe+ohFBInoBM/iekB5UYOaDplK1zmtgRnNHzBLTQEbqodvJbCVyVu9maXYDI3tcg/5PnH3NKFd/FVbklwEqElt9BEOKjuYb4PL9ROpX8A2RaiDYvOCxK7cFsn9vk3uCXBsH74pKRajxPuF7HLvq++Fc7r9F6vkzZDP688R0l+DdpBIrcQmgfX1d51No9BvXlPLb95dQGqd/vOP/8pN3Uiya/JfFBvwhoKN9SlOPwI9/gmpPC9tAhF5ApQ1/ftCr/lli4k+TU5DepdCv3gccnsTqtP3oZ5Kk9Ns79gNDUQakR3WXHohm5GBygzmpIYSX4N3AtPcgvj9RKYoBbI9aCtLP8YeqcbzTu/gHK9ty7rsbtDkl+DfjCDW4Tf2RaNurejD3YgN8aKL5jbVgBcKrdtXX2EGzqQ5NdgEQgdhAcDdZavrcgj+z8+fraNe+tOhmnM0EFEWvlzPpL8Gvwp3pifdpcmMuawXuJHfz6HbIzSzSA9Zjwl+cU4A9lNoqYd9OWWkOagc1cZQ5/5fsf869ySQLiyWHyW2yomFrKdNkKqX/uGW7rQR357Jd/wKYG2HkIdDpcSe8YfmqecNui1Y1Uf+W1fFBk95tybwsZT0zeUMUvZdYF4watWZDmh2Djly+/QKQZgbktpVYbh1ZAbYszFng42em4ZKF9+l259goL6dJLkNwT6VD4SBkOS36hI8hsVQ8kv3BLt4iaT1fLy8vKQyWqSgWBrZ2TXrY2qL+v53oTmtGGpZu/uZSvzcHeyRO4uMpmrPXJzlMncrat72spc3dmebXsPG5mDO3LG3+jM5hlbje7nQVIb/C7VWBR/qqTpCxwVTN9o42nj6uXlaSOr6eKAv9YF/0BzuY2Do7OzTOYms2XfiwkY8rG/6qe1HBlk4FgDBpG/yYq4zUdDeQah0MT7d+OWLVu2QaHYG+IdfgrknZ8AnKFRsSyXZ6zbkptGNpqeSk9cflOxdtufGbbDkxWKPUFo8GmFYmsDj6i/FYkJe37f7I+v3MZ7ivMR6L3E+4rjJDpH50snV6UUR+N+cb0VGZn7Wf9gqkKxmc81+ib/tCrjIZmcbxCj2LFs2cpbin0Du5zPUuzrjK/IhIzL3fseVyh2+LfYcFdx4TMT5Jp4PeYEnKMXwnp1/LacLMNGuzKE/PMh1tlyL/jyLEJuACT+gC+AP+q2Gl5OTp0xrwDukyite3NxR659IXRC8uedTVEmNEDy1HdQewAScmQAZJNFvaMwBLl9DQ/IQtJtIPEta+bzwHokVuU22IOP6BgwzwKre/CIdwPr561EqHYR0G3EpwfhAp9DZsua5bMz6NnHCPUGJbk9bpJgNjUuk8WqLXQd3frYMHxr3oQSJ2ZDYAD5F9Ewd7u48y/BMa+oFk6aQhYZvt0vWI+ri15AvJA+JFELyeTgJdRmOUIWt6EJHsP0Rc1ZZKVNQCdkdwKJrXEVSFyZy0CiAjs8K8LjTPNbWeRlrDeZdEk6BPRJHMP/goMkRcjsXDaphM4T7xuElo3CBT4ni9Ri69kkZbd/8MUNZhEu/4RgfLkgA5sjaSyhyGRyegT8RRJDUfnyd4f7NgiNZ/8yw1klfzquHazus+WJn+AcQvuBRnqrkQW9rcxV8iNT1BKu4DT8IuwnLycBiTeiADKSTKMLRHa5RbiCaMdD/82Bc/hiHfskpcAHV2dxUyGJnkZtYTNJmgyjYQ6jifxP75HL2rj4CTl1CN8b+PfStZOL9LJ+QdanviTym15L25qQkPA7FNOmxUBw+a1j8J+qILjKFGB+Fcahpt/9IgwLVCL/31jiagqgvhjhkGVnmvmSvEAWKYgSKvlJhJ1rCA2MCmXlOAnCXX1j7s0lfygNesvl8ibPC/EHI3jU1g/gpSdCJz4YRW6o92eFqHwPJoEwoBOT/z5d6d4KCxHyVhL3tBC4T85cwPUfwWLgwp/JVXNQ7uiJCW7TzpB73rn8FuGLKswQkfxtAb76PvsMjUesQlN+2ip0hxe27kVFrIWIZ8VcIP911O64yQcq+a8cuw6JtDZLhQTciq/Kz8ffGAskyBsu3gCtEfptqEXeY3u0o15vlfwxIkebFQL5/SDHFcXRYJWeAJvGjl+fw+QPu/x1rZFEfn9BvCzDUemVzzg4196j3u8g9N/SlJ/GIesIOTUsHgALwLkcVpNEIH+Kf7IX+kgl/2irGu3v5ZO+ThqQ4CPWueQbp7HKHsmh0BvLPwa3FYN8ktAQlfyz+evIhfyTa0eq5UcJMB0Vsmn70IQTvy3plkrlX04m6ScR+TsDX4gyqezaWUily/8t9eutDwrBHBSWn1SgTWl7Wu0+8xAbACdNcKXDwiptZB0Mgfzpe/ANNAAOkFwSkKdMDIbHuBeeBsSB0imXfGMoPKERnXzhDL4Dsfxvw8lV/bH8PLjl+5BNxx9W/yHt7SkqP637Se1/cfYDdiUYtPIJBhIxdDyR3/Mlf7TCJENGHqp0+cfQWKiBkMnGSRQsP3HMaAq38TWpdpctFi2HSaTXd4/8fdMH1+jPMMsokV9JQh4OANr9SKI9n1ZQgMVOA1KvYfnxN5pfABrTdRz0wUcsP76c502w/DwYr30Wc4daRrpM6EIQvmuyM3mx2AbMD1nFeeiIezu0CZqK6x0z0xR4RAKT+h6wxg2BuhdXueiQX7xXT1+a007z9yCM4Vktj3ZwGgC4UfkTcMYNLhN3mF+JXwz6mPsCmzziTht+oCQtXm+gy6hJNNTvetiFy/gVwIUYWeXSq/AeZOEejMUD2nCcwNdoIHxGLtrfJI8ZDnDk04kpP1tZ7d/4US5+K/4cfyaEf7FS9HSIu+QnjINnoc7hZ+Bkz/6oL0BB3KhZOXiEYHdZqR5EVipa5XfYfOeayj/6lZj/8MOO3+SvFXxtqwXPlQltUOcFSmVUAK58ClJWdxyQ9geN3ei4D/ZM/O46Kb24OVihVEb2xkU8aK0yf4M76rle+Wy6h+uoW8qTCxfuz4i0Q36T/1Ee7Y5aTnqu3EZC7g9/+njO5ORduBaRh2Ue7m9he9zNMjRe+XQad4OaUAAAex2QYy7gnrBV6EKlcg3r4aCj9Jpx2kxVKo/0NLE5BXBrlj/AcSdc2WWRsIr4FkW1inFLYRC0yW86eaTvHloxvDJvT5k9iVUhHO8mteWNfVD9xnJ5QC3c9BbX6T97zvuqBYSgyMgRfGalXoBc7t8Ujxoa+svljWugxo3k3k1r2DWrI2/UooU/Gf+6N/ORN2qIagfUlvvRy+c+dckMOnRwbPZWI38zZI3M/MmnVHNOAV9Mp3LX7YFbbHN//AcC2P1l+pewQPv415b74v6w3fgp+Dg8nIaj9hw46xPmrxwcYaDep1b5HbAIVwX1d6WBez5lLxhVLd0yWBtsXHQ1ve1KYrBXJlh+FkHWiOA7L20mt42Kdvllg0+V1+WqF12REHR3aKtpREzXXJqx8aaw12k0tMvvEHbrsa7pDpPGG/PoEOjVcO0AsNJHVfEbhWqPAB4Zqiv5auiqfBxf6nqUiPOE5cB76a9Cj8kzZ8wZaohGRX+67VxY1nNajYAu+VFyOTu/VGNUiYqiTX7yyFiPvRqPrWu5ThTi2VyS/3XRJr/dtT2fLNYcdn0kDl5QMkMjUVGE8r87fe0K3Bn23r3WBZk07BVUak92nxciZ0NJ/tdGKH+TnidgAvK7mFmspT8pyV/ZiCsf+9xrTsc6mWoLBNT7hWjsLcn/2mjU/fvgsHjrgIheL0QdRkn+10ZD/s+0PLdOfvNvTFbxbZLwB6VJ8r8+GvK3YMtLpXCYPhOzuWA+SVQPOJfkf21GZIvkjyjUtR+sSx43GJL8r82gR8J51xYLE4m3kTZK93yM9dSH/xVaZAo6M5YbXSbBPNSFRgMqA035M5iTlESFsX2qmv2VB5vMGYrawm8Nfyq9T4/RRx29j5IO/bklUUG2qEKjzIXrsxCyfgBntdYoHwonHcxbjwU4Eax++JVEBXC7Tb0wEHrrC7o5uM0kbWUfoZpBgjUKiy79QoI/6GnQZ5v9H+BzelXzN2HZ8/+WgYulKtyoSKVfQkJCQkJC4s0Cof8C/OQOS8hSkx8AAAAASUVORK5CYII=)ения:\n",
        "                          \n",
        "\n",
        "\n"
      ],
      "metadata": {
        "id": "1z-nJxHrzauY"
      }
    },
    {
      "cell_type": "code",
      "source": [
        "x = float(input())\n",
        "if x<=3:\n",
        "    f = x**2-3*x+9\n",
        "    print(f)\n",
        "else:\n",
        "    f = 1/(x**3+1)\n",
        "    print(f)\n"
      ],
      "metadata": {
        "id": "2OmNvfiJzbXZ"
      },
      "execution_count": null,
      "outputs": []
    },
    {
      "cell_type": "markdown",
      "source": [
        "2)Даны три действительные числа. Возвести в квадрат те из них, значения которых неотрицательны, и в четвертую степень – отрицательные."
      ],
      "metadata": {
        "id": "xCaSKfBMLelx"
      }
    },
    {
      "cell_type": "code",
      "source": [
        "x = float(input())\n",
        "y = float(input())\n",
        "z = float(input())\n",
        "if x>0:\n",
        "    x = x**2\n",
        "else:\n",
        "    x = x**4\n",
        "if y>0:\n",
        "    y = y**2\n",
        "else:\n",
        "    y = y**4\n",
        "if z>0:\n",
        "    z = z**2\n",
        "else:\n",
        "    z = z**4\n",
        "print(x,y,z)\n"
      ],
      "metadata": {
        "id": "5UcLmfnVLuzK"
      },
      "execution_count": null,
      "outputs": []
    },
    {
      "cell_type": "markdown",
      "source": [
        "3)Найти max {min (a, b), min (c, d)}."
      ],
      "metadata": {
        "id": "n6hFKUnHL09J"
      }
    },
    {
      "cell_type": "code",
      "source": [
        "a = float(input())\n",
        "b = float(input())\n",
        "c = float(input())\n",
        "d = float(input())\n",
        "if a>b:\n",
        "    m1 = b\n",
        "else:\n",
        "    m1 = a\n",
        "if c>d:\n",
        "    maxx = d if (d>m1) else m1\n",
        "else:\n",
        "    maxx = c if (c > m1) else m1\n",
        "\n",
        "print(maxx)\n"
      ],
      "metadata": {
        "id": "e5LcmzXzL5nO"
      },
      "execution_count": null,
      "outputs": []
    },
    {
      "cell_type": "markdown",
      "source": [
        "4) Даны два различных вещественных числа. Определить:\n",
        "а) какое из них больше;\n",
        "б) какое из них меньше.\n"
      ],
      "metadata": {
        "id": "hufLqJtQL9Hu"
      }
    },
    {
      "cell_type": "code",
      "source": [
        "a = float(input())\n",
        "b = float(input())\n",
        "if a>b:\n",
        "    minn = b\n",
        "    maxx = a\n",
        "else:\n",
        "    minn = a\n",
        "    maxx = b\n",
        "\n"
      ],
      "metadata": {
        "id": "L6cPQUQ_MDCR"
      },
      "execution_count": null,
      "outputs": []
    },
    {
      "cell_type": "markdown",
      "source": [
        "5)Составить программу, которая в зависимости от порядкового номера дня недели (1, 2, ..., 7) выводит на экран его название (понедельник, вторник, ...,воскресенье)."
      ],
      "metadata": {
        "id": "RBWoWALrMJP4"
      }
    },
    {
      "cell_type": "code",
      "source": [
        "a = float(input())\n",
        "match a:\n",
        "    case 1:\n",
        "        print(\"Понедельник\")\n",
        "    case 2:\n",
        "        print(\"Вторник\")\n",
        "    case 3:\n",
        "        print(\"Среда\")\n",
        "    case 4:\n",
        "        print(\"Четверг\")\n",
        "    case 5:\n",
        "        print(\"Пятница\")\n",
        "    case 6:\n",
        "        print(\"Суббота\")\n",
        "    case 7:\n",
        "        print(\"Воскресенье\")\n",
        "\n"
      ],
      "metadata": {
        "id": "NbULvBd0MOuR"
      },
      "execution_count": null,
      "outputs": []
    },
    {
      "cell_type": "markdown",
      "source": [
        "\tЦикл\n",
        "  1)\tИмеется серия измерений элементов треугольника. Группы элементов пронумерованы. В серии в произвольном порядке могут встречаться такие группы элементов треугольника:\n",
        "✔\tоснование и высота;\n",
        "✔\tдве стороны и угол между ними (угол задан в радианах);\n",
        "✔\tтри стороны.\n",
        "2)\tСоставить программу, которая запрашивает номер группы элементов, вводит соответствующие элементы и вычисляет площадь треугольника. Вычисления прекратить, если в качестве номера группы введен 0.\n",
        "\n"
      ],
      "metadata": {
        "id": "cQmlWWfPMTPD"
      }
    },
    {
      "cell_type": "code",
      "source": [
        "import math\n",
        "num = int(input(\"Enter a number group: \"))\n",
        "while num!=0:\n",
        "    s = 0\n",
        "    if num==1:\n",
        "        k = 2\n",
        "        a = float(input())\n",
        "        b = float(input())\n",
        "        s = 0.5*a*b\n",
        "    elif num==2:\n",
        "        a = float(input())\n",
        "        b = float(input())\n",
        "        r = float(input())\n",
        "        s = (a*b*math.sin(r))/2\n",
        "    elif num==3:\n",
        "        a = float(input())\n",
        "        b = float(input())\n",
        "        c = float(input())\n",
        "        P = a + b + c\n",
        "        p2 = P / 2\n",
        "        s = math.sqrt(p2 * (p2 - a) * (p2 - b) * (p2 - c))\n",
        "    print(s)\n",
        "    num = int(input(\"Enter a number group: \"))\n",
        "\n"
      ],
      "metadata": {
        "id": "W4_jrvSfMqTL"
      },
      "execution_count": null,
      "outputs": []
    },
    {
      "cell_type": "markdown",
      "source": [
        "Дано натуральное число N. Вычислить:\n",
        "S= ![image.png](data:image/png;base64,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)\n"
      ],
      "metadata": {
        "id": "SMzENOe1Mw_i"
      }
    },
    {
      "cell_type": "code",
      "source": [
        "import math\n",
        "n = int(input())\n",
        "s = 0\n",
        "for i in range(n+1):\n",
        "    s = s + (1/(2**i)*(-1)**i)\n",
        "print(s)\n",
        "\n"
      ],
      "metadata": {
        "id": "XnZVfTfIM9N8"
      },
      "execution_count": null,
      "outputs": []
    },
    {
      "cell_type": "markdown",
      "source": [
        "Найти сумму ряда с точностью ε=0,001, общий член которого:\n",
        " ![image.png](data:image/png;base64,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)\n"
      ],
      "metadata": {
        "id": "-EcX9cDaNDf_"
      }
    },
    {
      "cell_type": "code",
      "source": [
        "n = int(input())\n",
        "s = 0\n",
        "for i in range(1,n+1):\n",
        "    s = s + ((-1)**(i-1))/(i**i)\n",
        "print(s)"
      ],
      "metadata": {
        "id": "hC_uRy6CNL2i"
      },
      "execution_count": null,
      "outputs": []
    },
    {
      "cell_type": "markdown",
      "source": [
        "НОВЫЙ РАЗДЕЛ\n",
        "1)\tДано натуральное число N. Составить процедуру (функцию) формирования массива, элементами которого являются цифры числа N."
      ],
      "metadata": {
        "id": "wYcscciRQ160"
      }
    },
    {
      "cell_type": "code",
      "source": [
        "def mas(num):\n",
        "    massiv = list()\n",
        "    while num>10:\n",
        "        massiv.append(num%10)\n",
        "        num = num//10\n",
        "    massiv.append(num)\n",
        "    return massiv\n",
        "\n",
        "n = int(input())\n",
        "\n",
        "print(mas(n))\n"
      ],
      "metadata": {
        "id": "KxM6QrXETKdc"
      },
      "execution_count": null,
      "outputs": []
    },
    {
      "cell_type": "markdown",
      "source": [
        "2.\tТреугольник задан координатами своих вершин. Составить функцию вычисления его площади."
      ],
      "metadata": {
        "id": "8xsJqDZjOIcn"
      }
    },
    {
      "cell_type": "code",
      "source": [
        "import math\n",
        "def S():\n",
        "    x1, y1 = map(int, input().split())\n",
        "    x2, y2 = map(int, input().split())\n",
        "    x3, y3 = map(int, input().split())\n",
        "    a = math.sqrt((x2 - x1) ** 2 + (y2 - y1) ** 2)\n",
        "    b = math.sqrt((x3 - x2) ** 2 + (y3 - y2) ** 2)\n",
        "    c = math.sqrt((x3 - x1) ** 2 + (y3 - y1) ** 2)\n",
        "    P = a + b + c\n",
        "    print(P)\n",
        "    p2 = P / 2\n",
        "    S = math.sqrt(p2 * (p2 - a) * (p2 - b) * (p2 - c))\n",
        "    return S\n",
        "\n",
        "print(S())\n"
      ],
      "metadata": {
        "id": "F04tMkdwOHxm"
      },
      "execution_count": null,
      "outputs": []
    },
    {
      "cell_type": "markdown",
      "source": [
        "3.\tНайдите сумму цифр заданного натурального числа, используя рекурсивную подпрограмму."
      ],
      "metadata": {
        "id": "KzZVwQ3COOFs"
      }
    },
    {
      "cell_type": "code",
      "source": [
        "def sz(num):\n",
        "    if num<10:\n",
        "        return num\n",
        "    ost = num%10\n",
        "    s = ost+sz(num//10)\n",
        "    return s\n",
        "\n",
        "n = int(input())\n",
        "print(sz(n))"
      ],
      "metadata": {
        "id": "YM3LtS8dOROV"
      },
      "execution_count": null,
      "outputs": []
    }
  ]
}