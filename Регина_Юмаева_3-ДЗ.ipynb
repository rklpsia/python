{
  "nbformat": 4,
  "nbformat_minor": 0,
  "metadata": {
    "colab": {
      "provenance": [],
      "authorship_tag": "ABX9TyPBXj9GMi+ACc6OO+mvvR+I",
      "include_colab_link": true
    },
    "kernelspec": {
      "name": "python3",
      "display_name": "Python 3"
    },
    "language_info": {
      "name": "python"
    }
  },
  "cells": [
    {
      "cell_type": "markdown",
      "metadata": {
        "id": "view-in-github",
        "colab_type": "text"
      },
      "source": [
        "<a href=\"https://colab.research.google.com/github/rklpsia/python/blob/main/%D0%9C%D0%B0%D1%81%D1%81%D0%B8%D0%B2%2C_%D1%81%D0%BB%D0%BE%D0%B2%D0%B0%D1%80%D1%8C%2C%D0%BA%D0%BE%D1%80%D1%82%D0%B5%D0%B6.ipynb\" target=\"_parent\"><img src=\"https://colab.research.google.com/assets/colab-badge.svg\" alt=\"Open In Colab\"/></a>"
      ]
    },
    {
      "cell_type": "markdown",
      "source": [
        "27) Описать процедуру SortCols(A, M, N), выполняющую сортировку по возрастанию столбцов целочисленной матрицы A размера M×N (столбцы сравниваются лексикографически: если первые элементы столбцов различны, то меньшим считается столбец, содержащий меньший первый элемент; если первые элементы столбцов равны, то анализируются их вторые элементы и т. д.). Двумерный массив A является входным и выходным параметром. Используя процедуру SortCols, отсортировать столбцы данной матрицы A размера M×N."
      ],
      "metadata": {
        "id": "24PVXGSI-FQC"
      }
    },
    {
      "cell_type": "code",
      "source": [
        "def SortCols(A, M, N):\n",
        "    for i in range(M-1):\n",
        "        for j in range(N):\n",
        "            if A[j][i] < A[j][i + 1]: break\n",
        "            if A[j][i]>A[j][i+1]:\n",
        "                for row in A:\n",
        "                    row[i], row[i+1] = row[i+1], row[i]\n",
        "                break\n",
        "    return A\n",
        "M = 3\n",
        "N = 3\n",
        "matrix = [\n",
        "    [5, 5, 5],\n",
        "    [8, 1, 6],\n",
        "    [7, 8, 9]\n",
        "]\n",
        "sort_m = SortCols(matrix,M,N)\n",
        "for i in range(M):  # Строки\n",
        "    for j in range(N):  # Столбцы\n",
        "        print(sort_m[i][j], end=\" \")\n",
        "    print()"
      ],
      "metadata": {
        "id": "knhLgq6o-Ejt"
      },
      "execution_count": null,
      "outputs": []
    },
    {
      "cell_type": "markdown",
      "source": [
        "Подсчет частоты слов: Напишите функцию, которая принимает строку и возвращает словарь, где ключи — это слова, а значения — их частота в строке."
      ],
      "metadata": {
        "id": "7ybav_ODVfXp"
      }
    },
    {
      "cell_type": "code",
      "source": [
        "def Creation(str):\n",
        "    #mas = []\n",
        "    #s = ('')\n",
        "    # for i in str:\n",
        "    #     if i != ' ':\n",
        "    #         s += i\n",
        "    #     else:\n",
        "    #         mas.append(s)\n",
        "    #         s = ''\n",
        "    #mas.append(s)\n",
        "    mas = str.split(\" \")\n",
        "    mas_2 = set(mas)\n",
        "    d = list()\n",
        "    for i in mas_2:\n",
        "        d.append([i,mas.count(i)])\n",
        "    return dict(d)\n",
        "\n",
        "s = \"abc zxc abc\"\n",
        "print(Creation(s))"
      ],
      "metadata": {
        "id": "Top1j7LeVd_6"
      },
      "execution_count": null,
      "outputs": []
    },
    {
      "cell_type": "markdown",
      "source": [
        "Инвертирование словаря: Напишите функцию, которая принимает словарь и возвращает новый словарь, где ключи и значения поменяны местами. Если значения не уникальны, объедините ключи в список."
      ],
      "metadata": {
        "id": "bpJ66Z4oVdqT"
      }
    },
    {
      "cell_type": "code",
      "source": [
        "def invert(dict):\n",
        "    mas = {}\n",
        "    for key, value in dict.items():\n",
        "        if value in mas:\n",
        "            mas[value].append(key)\n",
        "        else:\n",
        "            mas[value] = [key]\n",
        "    return mas\n",
        "w= {1: \"A\", 2: \"Z\", 3: \"M\",5:\"A\"}\n",
        "print(invert(w))"
      ],
      "metadata": {
        "id": "zFQkJnKzVen-"
      },
      "execution_count": null,
      "outputs": []
    },
    {
      "cell_type": "markdown",
      "source": [
        "Максимальное значение: Напишите функцию, которая находит ключ с максимальным значением в словаре."
      ],
      "metadata": {
        "id": "B4HUFaWgEcnj"
      }
    },
    {
      "cell_type": "code",
      "source": [
        "def maxx(dict):\n",
        "    maxi = float('-inf')\n",
        "    for key in dict.keys():\n",
        "        if not isinstance(key, (int, float)):  # Проверка типа ключа\n",
        "            raise TypeError(\"Ключи должны быть числами\")\n",
        "        if(maxi<key):maxi = key\n",
        "    return maxi\n",
        "w= {1: \"A\", 2: \"Z\", 3: \"M\",5:\"A\"}\n",
        "print(maxx(w))"
      ],
      "metadata": {
        "id": "iKqbgkAoEbZZ"
      },
      "execution_count": null,
      "outputs": []
    },
    {
      "cell_type": "markdown",
      "source": [
        "Удаление ключей: Напишите функцию, которая принимает словарь и список ключей, и удаляет из словаря все указанные ключи."
      ],
      "metadata": {
        "id": "zVEnZr7QEbEI"
      }
    },
    {
      "cell_type": "code",
      "source": [
        "def delete(dict,mas_k):\n",
        "    for key in mas_k:\n",
        "        if key in dict:  # Проверка наличия ключа перед удалением\n",
        "            del dict[key]\n",
        "w = {1: \"A\", 2: \"Z\", 3: \"M\", 5: \"A\"}\n",
        "delete(w,[1,5])\n",
        "print(w)"
      ],
      "metadata": {
        "id": "jlA3X8WzEdOW"
      },
      "execution_count": null,
      "outputs": []
    },
    {
      "cell_type": "markdown",
      "source": [
        "Объединение значений: Напишите функцию, которая принимает два словаря и объединяет их значения в списки для каждого ключа."
      ],
      "metadata": {
        "id": "0jqhpSGWJUh9"
      }
    },
    {
      "cell_type": "code",
      "source": [
        "def sliv(dict1,dict2):\n",
        "    resylt = dict2.copy()\n",
        "    for key1, value1 in dict1.items():\n",
        "        if key1 in resylt:  # Проверка наличия ключа\n",
        "            resylt[key1] = [resylt[key1]] #преобразуем значение в список (если оно не список) и добавляем новое значение\n",
        "            resylt[key1].append(value1)\n",
        "        else:\n",
        "            resylt[key1] = value1\n",
        "    return resylt\n",
        "w = {1: \"A\", 2: \"Z\", 3: \"M\", 5: \"A\"}\n",
        "print (sliv(w,{1:\"Q\",5:\"V\",7:\"R\"}))\n"
      ],
      "metadata": {
        "id": "gbi1M_PxJVCY"
      },
      "execution_count": null,
      "outputs": []
    },
    {
      "cell_type": "markdown",
      "source": [
        "Пересечение словарей: Напишите функцию, которая принимает два словаря и возвращает новый словарь, содержащий только те пары ключ-значение, которые присутствуют в обоих словарях."
      ],
      "metadata": {
        "id": "7nvRMGjy2os7"
      }
    },
    {
      "cell_type": "code",
      "source": [
        "def sliv(dict1,dict2):\n",
        "    resylt = {}\n",
        "    for key1, value1 in dict1.items():\n",
        "        if key1 in dict2 and value1== dict2[key1]:\n",
        "            resylt[key1] = value1\n",
        "    return resylt\n",
        "w = {1: \"A\", 2: \"Z\", 3: \"M\", 5: \"A\"}\n",
        "print (sliv(w,{1:\"A\",5:\"A\",2:\"R\",7:\"U\"}))"
      ],
      "metadata": {
        "id": "5Hhpivji2pD1"
      },
      "execution_count": null,
      "outputs": []
    },
    {
      "cell_type": "markdown",
      "source": [
        "Сортировка по ключам: Напишите функцию, которая сортирует словарь по ключам и возвращает новый отсортированный словарь."
      ],
      "metadata": {
        "id": "h04WSNeM2nek"
      }
    },
    {
      "cell_type": "code",
      "source": [
        "def sort_key(dict):\n",
        "    result = {}\n",
        "    mas = sorted(dict.keys())\n",
        "    for i in mas:\n",
        "        result[i] = dict[i]\n",
        "    return result\n",
        "\n",
        "w = {10: \"A\", 1: \"Z\", 3: \"M\", 5: \"A\"}\n",
        "print (sort_key(w))\n",
        "print(w)"
      ],
      "metadata": {
        "id": "R6cHDx3U2oLU"
      },
      "execution_count": null,
      "outputs": []
    },
    {
      "cell_type": "markdown",
      "source": [
        "Преобразование значений: Напишите функцию, которая преобразует все значения в словаре в строки."
      ],
      "metadata": {
        "id": "Inu-1YaE2pe7"
      }
    },
    {
      "cell_type": "code",
      "source": [
        "def q(dict):\n",
        "    for key,values in dict.items():\n",
        "        dict[key] = str(values)\n",
        "    return dict\n",
        "w = {1: 5, 2: 2, 3: 1, 5: 10}\n",
        "print (q(w))\n"
      ],
      "metadata": {
        "id": "B14zQ-N44iaR"
      },
      "execution_count": null,
      "outputs": []
    },
    {
      "cell_type": "markdown",
      "source": [
        "Сортировка по значениям: Напишите функцию, которая сортирует словарь по значениям и возвращает новый отсортированный словарь.\n"
      ],
      "metadata": {
        "id": "6hWqf1YV4gZ4"
      }
    },
    {
      "cell_type": "code",
      "source": [
        "def sort_key(dictionary):\n",
        "    items = list(dictionary.items())\n",
        "    n = len(items)\n",
        "    for i in range(n):\n",
        "        for j in range(0, n - i - 1):\n",
        "            if items[j][1] > items[j + 1][1] :\n",
        "                items[j], items[j + 1] = items[j + 1], items[j]\n",
        "    return dict(items)\n",
        "\n",
        "w = {10: \"E\", 1: \"Z\", 3: \"M\", 5: \"A\"}\n",
        "print (sort_key(w))"
      ],
      "metadata": {
        "id": "ta62kgEL2p1x"
      },
      "execution_count": null,
      "outputs": []
    },
    {
      "cell_type": "markdown",
      "source": [
        "Обновление значений: Напишите функцию, которая увеличивает все значения в словаре на заданное число."
      ],
      "metadata": {
        "id": "Untnl0Bp2qOS"
      }
    },
    {
      "cell_type": "code",
      "source": [
        "def updating(dict,a):\n",
        "    for key in dict.keys():\n",
        "        dict[key] +=a\n",
        "    return dict\n",
        "w = {1: 5, 2: 2, 3: 1, 5: 10}\n",
        "print (updating(w,int(input())))\n"
      ],
      "metadata": {
        "id": "f7g0tVaR2qlN"
      },
      "execution_count": null,
      "outputs": []
    },
    {
      "cell_type": "markdown",
      "source": [
        "Среднее значение: Напишите функцию, которая вычисляет среднее значение всех числовых значений в словаре."
      ],
      "metadata": {
        "id": "GWSTF7gqR_ZQ"
      }
    },
    {
      "cell_type": "code",
      "execution_count": null,
      "metadata": {
        "id": "_HnIf-UURgZ0"
      },
      "outputs": [],
      "source": [
        "def srz(d):\n",
        "    sum = 0\n",
        "    for key in d:\n",
        "        sum += d[key]\n",
        "    return sum/len(d)\n",
        "\n",
        "users = {\n",
        "    \"+11111111\": 5,\n",
        "    \"+33333333\": 15,\n",
        "    \"+55555555\": 10\n",
        "}\n",
        "print(srz(users))"
      ]
    },
    {
      "cell_type": "markdown",
      "source": [
        "Создание множества из списка: Напишите функцию, которая принимает список и возвращает множество, содержащее уникальные элементы списка."
      ],
      "metadata": {
        "id": "BFvy2ZV0CQSr"
      }
    },
    {
      "cell_type": "code",
      "source": [
        "def mn(mas):\n",
        "    return set(mas)\n",
        "\n",
        "w = [1,4,12,1,4,5,8,22,22,9,9,4]\n",
        "print (mn(w))"
      ],
      "metadata": {
        "id": "iX1WuAkdQo5M"
      },
      "execution_count": null,
      "outputs": []
    },
    {
      "cell_type": "markdown",
      "source": [
        "Удаление дубликатов: Напишите функцию, которая удаляет дубликаты из списка с помощью множества и возвращает новый список."
      ],
      "metadata": {
        "id": "iSguWgiOQ926"
      }
    },
    {
      "cell_type": "code",
      "source": [
        "def mn(mas):\n",
        "    return list(set(mas))\n",
        "\n",
        "w = [1,4,12,1,4,5,8,22,22,9,9,4]\n",
        "print (mn(w))"
      ],
      "metadata": {
        "id": "C2c55gIAQ8uf"
      },
      "execution_count": null,
      "outputs": []
    },
    {
      "cell_type": "markdown",
      "source": [
        "3) Пересечение множеств: Напишите функцию, которая принимает два множества и возвращает их пересечение."
      ],
      "metadata": {
        "id": "AKEC_0ByRKib"
      }
    },
    {
      "cell_type": "code",
      "source": [
        "def Intersection(a,b):\n",
        "    result = set()\n",
        "    for i in a:\n",
        "        if i in b:\n",
        "            result.add(i)\n",
        "    return result\n",
        "\n",
        "w = set([1,4,12,1,4,5,8,22,22,9,9,4])\n",
        "q = {1,6,2,9,3,22,4,5}\n",
        "print (Intersection(q,w))"
      ],
      "metadata": {
        "id": "um5ph4tWRLEo"
      },
      "execution_count": null,
      "outputs": []
    },
    {
      "cell_type": "markdown",
      "source": [
        "Объединение множеств: Напишите функцию, которая принимает два множества и возвращает их объединение.\n",
        "\n"
      ],
      "metadata": {
        "id": "1zr1ed4OSidf"
      }
    },
    {
      "cell_type": "code",
      "source": [
        "def Intersection(a,b):\n",
        "    result = b.copy()\n",
        "    for i in a:\n",
        "        if not i in result:\n",
        "            result.add(i)\n",
        "    return result\n",
        "\n",
        "w = {7,8,9,10,11}\n",
        "q = {1,6,2,9,3,22,4,5}\n",
        "print (Intersection(q,w))"
      ],
      "metadata": {
        "id": "D4nQhaxsSi4C"
      },
      "execution_count": null,
      "outputs": []
    },
    {
      "cell_type": "markdown",
      "source": [
        "5) Проверка подмножества: Напишите функцию, которая проверяет, является ли одно множество подмножеством другого."
      ],
      "metadata": {
        "id": "iteD3kVmSjnr"
      }
    },
    {
      "cell_type": "code",
      "source": [
        "def issu(a,b):\n",
        "    return a.issubset(b)==True or b.issubset(a)\n",
        "\n",
        "w = {1,2,6}\n",
        "q = {1,6,2,9,3,22,4,5}\n",
        "print (issu(q,w))"
      ],
      "metadata": {
        "id": "oGUMmdn6Sj-3"
      },
      "execution_count": null,
      "outputs": []
    },
    {
      "cell_type": "markdown",
      "source": [
        "Удаление элементов: Напишите функцию, которая удаляет из множества все элементы, присутствующие в списке."
      ],
      "metadata": {
        "id": "KCaBBeqSUQT1"
      }
    },
    {
      "cell_type": "code",
      "source": [
        "def delit(s,mas):\n",
        "    ss = s.copy()\n",
        "    for i in ss:\n",
        "        if i in mas:\n",
        "            s.remove(i)\n",
        "    return s\n",
        "\n",
        "w = {1,2,6,77}\n",
        "q = [1,6,2,9,3,22,4,5]\n",
        "print (delit(w,q))"
      ],
      "metadata": {
        "id": "r8JZgbJnUQto"
      },
      "execution_count": null,
      "outputs": []
    },
    {
      "cell_type": "markdown",
      "source": [
        "7)Частота элементов: Напишите функцию, которая подсчитывает частоту каждого элемента в списке с помощью множества."
      ],
      "metadata": {
        "id": "LMjUsJsIURRT"
      }
    },
    {
      "cell_type": "code",
      "source": [
        "def Frequency(mas):\n",
        "    d = {}\n",
        "    mn = set(mas)\n",
        "    for i in mn:\n",
        "        k = \"Элемент \" + str(i)\n",
        "        d[k] = mas.count(i)\n",
        "    return d\n",
        "\n",
        "w = {1,2,6,77}\n",
        "q = [1,6,2,6,5,4,4,9,3,22,4,5,9]\n",
        "print (Frequency(q))"
      ],
      "metadata": {
        "id": "20tei7hdURnJ"
      },
      "execution_count": null,
      "outputs": []
    },
    {
      "cell_type": "markdown",
      "source": [
        "Проверка на наличие общих элементов: Напишите функцию, которая проверяет, имеют ли два множества хотя бы один общий элемент.\n",
        "\n"
      ],
      "metadata": {
        "id": "2uAoiyRHYcDX"
      }
    },
    {
      "cell_type": "code",
      "source": [
        "def pr(m1,m2):\n",
        "    flag = False\n",
        "    for i in m1:\n",
        "        if i in m2:\n",
        "            flag = True\n",
        "            return flag\n",
        "    return flag\n",
        "\n",
        "w = {11,25,65,77}\n",
        "q = set([1,6,2,6,5,4,4,9,3,22,4,5,9])\n",
        "print (pr(w,q))"
      ],
      "metadata": {
        "id": "k9iZZvpaYc0B"
      },
      "execution_count": null,
      "outputs": []
    },
    {
      "cell_type": "markdown",
      "source": [
        "Проверка на пустоту: Напишите функцию, которая проверяет, является ли множество пустым."
      ],
      "metadata": {
        "id": "3qoubnT2YdQ7"
      }
    },
    {
      "cell_type": "code",
      "source": [
        "def pr(mn):\n",
        "    if len(mn) ==0 :\n",
        "        return \"Множество пустое\"\n",
        "    else:\n",
        "        return \"Множество не пустое\"\n",
        "z = set()\n",
        "w = {11,25,65,77}\n",
        "q = set([1,6,2,6,5,4,4,9,3,22,4,5,9])\n",
        "print (pr(z))"
      ],
      "metadata": {
        "id": "2OiSl0sSYdon"
      },
      "execution_count": null,
      "outputs": []
    },
    {
      "cell_type": "markdown",
      "source": [
        "10) Генерация множества: Напишите функцию, которая генерирует множество из n случайных чисел в заданном диапазоне."
      ],
      "metadata": {
        "id": "yQXDeoi8YeH4"
      }
    },
    {
      "cell_type": "code",
      "source": [
        "import random\n",
        "def create_mn(n,a,b):\n",
        "    mn = set()\n",
        "    for i in range(n):\n",
        "        new = random.randrange(a,b+1)\n",
        "        mn.add(new)\n",
        "    return mn\n",
        "\n",
        "a,b = map(int,input().split())\n",
        "n = int(input())\n",
        "print (create_mn(n,a,b))"
      ],
      "metadata": {
        "id": "KISQRoyKYeyT"
      },
      "execution_count": null,
      "outputs": []
    },
    {
      "cell_type": "markdown",
      "source": [
        "КОРТЕЖИ\n",
        "1)Создание кортежа из списка: Напишите функцию, которая принимает список и возвращает кортеж, содержащий те же элементы."
      ],
      "metadata": {
        "id": "yQqfhVJsdrB5"
      }
    },
    {
      "cell_type": "code",
      "source": [
        "def t(m):\n",
        "    return tuple(m)\n",
        "\n",
        "mas = [1,7,8,9,2,4,66,1,7,8,12]\n",
        "print(t(mas))"
      ],
      "metadata": {
        "id": "TK0TdXzKdreA"
      },
      "execution_count": null,
      "outputs": []
    },
    {
      "cell_type": "markdown",
      "source": [
        "Проверка на наличие элемента: Напишите функцию, которая проверяет, содержится ли заданный элемент в кортеже.\n"
      ],
      "metadata": {
        "id": "Okf45rAUeBFX"
      }
    },
    {
      "cell_type": "code",
      "source": [
        "def t(m,a):\n",
        "    if a in m:\n",
        "        return \"Содержится\"\n",
        "    else:\n",
        "        return(\"Не содержится\")\n",
        "\n",
        "mas = (1,7,8,9,2,4,66,1,7,8,12)\n",
        "a = int(input())\n",
        "print(t(mas,a))"
      ],
      "metadata": {
        "id": "htgVS0zoeAPL"
      },
      "execution_count": null,
      "outputs": []
    },
    {
      "cell_type": "markdown",
      "source": [
        "3) Индекс первого вхождения: Напишите функцию, которая находит индекс первого вхождения заданного элемента в кортеже."
      ],
      "metadata": {
        "id": "CnCwMxaaeBov"
      }
    },
    {
      "cell_type": "code",
      "source": [
        "def t(m,a):\n",
        "    for i in range(len(m)):\n",
        "        if m[i]==a:\n",
        "            return i\n",
        "    return \"Элемент не содержится\"\n",
        "\n",
        "mas = (1,7,8,9,2,4,66,1,7,8,12)\n",
        "a = int(input())\n",
        "print(t(mas,a))"
      ],
      "metadata": {
        "id": "0dnBnuQqeCEH"
      },
      "execution_count": null,
      "outputs": []
    },
    {
      "cell_type": "markdown",
      "source": [
        "Объединение кортежей: Напишите функцию, которая принимает два кортежа и возвращает их объединение."
      ],
      "metadata": {
        "id": "cVOUsQKAfeGS"
      }
    },
    {
      "cell_type": "code",
      "source": [
        "def un(m,m2):\n",
        "    a = []\n",
        "    for i in m:\n",
        "        a.append(i)\n",
        "    for j in m2:\n",
        "        if j not in a:\n",
        "            a.append(j)\n",
        "    return tuple(a)\n",
        "\n",
        "mas = (1,7,8,9,2,4,66,1,7,8,12)\n",
        "mas2 = (1,5,3,2,41,12)\n",
        "#a = int(input())\n",
        "print(un(mas,mas2))"
      ],
      "metadata": {
        "id": "WShXy43pfen5"
      },
      "execution_count": null,
      "outputs": []
    },
    {
      "cell_type": "markdown",
      "source": [
        "Разбиение кортежа: Напишите функцию, которая разбивает кортеж на две части: первую половину и вторую половину."
      ],
      "metadata": {
        "id": "lIX_CQByffFf"
      }
    },
    {
      "cell_type": "code",
      "source": [
        "def un(m):\n",
        "    a = []\n",
        "    a2 = []\n",
        "    c = len(m)\n",
        "    for i in range(int(c/2)):\n",
        "        a.append(m[i])\n",
        "    for i in range(int(c/2),c):\n",
        "        a2.append(m[i])\n",
        "    return tuple(a),tuple(a2)\n",
        "\n",
        "mas = (1,7,8,9,2,4,66,1,7,8,12)\n",
        "mas2 = (1,5,3,2,41,12,9)\n",
        "#a = int(input())\n",
        "print(un(mas2))"
      ],
      "metadata": {
        "id": "o_3y72IWfffT"
      },
      "execution_count": null,
      "outputs": []
    },
    {
      "cell_type": "markdown",
      "source": [
        "6)Срез кортежа: Напишите функцию, которая возвращает срез кортежа от заданного начального индекса до конечного."
      ],
      "metadata": {
        "id": "x2nsY4-Mff-W"
      }
    },
    {
      "cell_type": "code",
      "source": [
        "def un(m,a):\n",
        "    return m[a:]\n",
        "\n",
        "mas = (1,7,8,9,2,4,66,1,7,8,12)\n",
        "mas2 = (1,5,3,2,41,12,9)\n",
        "a = int(input())\n",
        "print(un(mas2,a))"
      ],
      "metadata": {
        "id": "fQj7a4Ehfg81"
      },
      "execution_count": null,
      "outputs": []
    },
    {
      "cell_type": "markdown",
      "source": [
        "Частота элементов: Напишите функцию, которая подсчитывает частоту каждого элемента в кортеже."
      ],
      "metadata": {
        "id": "TByO_bt5fhfd"
      }
    },
    {
      "cell_type": "code",
      "source": [
        "def un(m):\n",
        "    d = {}\n",
        "    mas = list(m)\n",
        "    for i in m:\n",
        "        k = \"Элемент \" + str(i)\n",
        "        d[k] = mas.count(i)\n",
        "    return d\n",
        "\n",
        "mas = (1,7,8,9,2,4,66,1,7,8,12)\n",
        "mas2 = (1,5,3,2,41,12,9)\n",
        "#a = int(input())\n",
        "print(un(mas))"
      ],
      "metadata": {
        "id": "hqCWOXWkfh0S"
      },
      "execution_count": null,
      "outputs": []
    },
    {
      "cell_type": "markdown",
      "source": [
        "Кортеж из строки: Напишите функцию, которая преобразует строку в кортеж символов."
      ],
      "metadata": {
        "id": "ZvnvthvlfiOV"
      }
    },
    {
      "cell_type": "code",
      "source": [
        "def un(m):\n",
        "    return tuple(m)\n",
        "\n",
        "mas = (1,7,8,9,2,4,66,1,7,8,12)\n",
        "mas2 = (1,5,3,2,41,12,9)\n",
        "s = (\"dytfu\")\n",
        "#a = int(input())\n",
        "print(un(s))"
      ],
      "metadata": {
        "id": "4V-HhQenfilQ"
      },
      "execution_count": null,
      "outputs": []
    },
    {
      "cell_type": "markdown",
      "source": [],
      "metadata": {
        "id": "M_F2-JDxfjIF"
      }
    },
    {
      "cell_type": "code",
      "source": [
        "from string import ascii_lowercase\n",
        "\n",
        "\n",
        "def create_nested_tuple():\n",
        "    llist = []\n",
        "    a = []\n",
        "    # Проходим по каждой букве алфавита\n",
        "    for letter in ascii_lowercase:\n",
        "        a.append(letter)\n",
        "    letter = tuple(a)\n",
        "    digit = tuple(range(1, 6))\n",
        "    v_tuple = (letter,digit)\n",
        "    return v_tuple\n",
        "\n",
        "\n",
        "nested_tuple = create_nested_tuple()\n",
        "print(nested_tuple)"
      ],
      "metadata": {
        "id": "VeTwYplqfjcc"
      },
      "execution_count": null,
      "outputs": []
    },
    {
      "cell_type": "markdown",
      "source": [
        "10) Перевод кортежа в строку: Напишите функцию, которая преобразует кортеж строк в одну строку, объединяя их через пробел."
      ],
      "metadata": {
        "id": "Y83C2nA1fjz4"
      }
    },
    {
      "cell_type": "code",
      "source": [
        "def stroka(s):\n",
        "    st = \"\"\n",
        "    for i in s:\n",
        "        st += \" \" + i\n",
        "    return st\n",
        "\n",
        "mas = {'a','sdf','we','qwer'}\n",
        "print(stroka(mas))"
      ],
      "metadata": {
        "id": "I9y-6BOMflmK"
      },
      "execution_count": null,
      "outputs": []
    }
  ]
}
