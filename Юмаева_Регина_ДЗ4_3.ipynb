{
  "nbformat": 4,
  "nbformat_minor": 0,
  "metadata": {
    "colab": {
      "provenance": [],
      "authorship_tag": "ABX9TyMBayQvUpbuwxJsXdYzQycF",
      "include_colab_link": true
    },
    "kernelspec": {
      "name": "python3",
      "display_name": "Python 3"
    },
    "language_info": {
      "name": "python"
    }
  },
  "cells": [
    {
      "cell_type": "markdown",
      "metadata": {
        "id": "view-in-github",
        "colab_type": "text"
      },
      "source": [
        "<a href=\"https://colab.research.google.com/github/rklpsia/python/blob/main/%D0%AE%D0%BC%D0%B0%D0%B5%D0%B2%D0%B0_%D0%A0%D0%B5%D0%B3%D0%B8%D0%BD%D0%B0_%D0%94%D0%974_3.ipynb\" target=\"_parent\"><img src=\"https://colab.research.google.com/assets/colab-badge.svg\" alt=\"Open In Colab\"/></a>"
      ]
    },
    {
      "cell_type": "markdown",
      "source": [
        "1.\tДана последовательность слов. Напечатать все слова в алфавитном порядке."
      ],
      "metadata": {
        "id": "1mtAP3UJaG8n"
      }
    },
    {
      "cell_type": "code",
      "execution_count": null,
      "metadata": {
        "id": "eJqT6cjtUjz5"
      },
      "outputs": [],
      "source": [
        "def alf(s):\n",
        "    q = sorted(s.split(\" \"))\n",
        "    new = ' '.join(q)\n",
        "    return new\n",
        "\n",
        "s = \"ban kul yui asd qwe abn pip olt ku ny si\"\n",
        "print(alf(s))"
      ]
    },
    {
      "cell_type": "markdown",
      "source": [
        "2.\tВычислить s—сумму порядковых номеров всех букв, входящих в слово SUM."
      ],
      "metadata": {
        "id": "rV83upvkaGBK"
      }
    },
    {
      "cell_type": "code",
      "source": [
        "def alf(s):\n",
        "    summm = 0\n",
        "    for i in s:\n",
        "        z_i = ord(i)\n",
        "        if z_i>=ord('a') and z_i<=ord('z'):\n",
        "            summm += z_i-ord('a')+1\n",
        "        elif z_i>=ord('A') and z_i<=ord('Z'):\n",
        "            summm += z_i - ord('A') + 1\n",
        "        else:\n",
        "            print(\"Ошибка \", i, \" не является буквой.Попробуйте сначала\")\n",
        "            return\n",
        "    return summm\n",
        "\n",
        "sum = input()\n",
        "print(alf(sum))"
      ],
      "metadata": {
        "id": "NYD75P5SaHaB"
      },
      "execution_count": null,
      "outputs": []
    },
    {
      "cell_type": "markdown",
      "source": [
        "3.\tИспользуя только литерный ввод, т. е. процедуру read(c), где с—литерная переменная, ввести непустую последовательность цифр, перед которой может находиться знак “+” или “—” и за которой следует пробел, и, получив соответствующее целое число, присвоить его целой временной k."
      ],
      "metadata": {
        "id": "jSpDWz-baHqS"
      }
    },
    {
      "cell_type": "code",
      "source": [
        "with open(\"i.txt\", \"r\") as file:\n",
        "    data = file.read()\n",
        "    # Проверка на наличие знака \"+\" или \"-\" в начале\n",
        "    if data[0] in ['+', '-']:\n",
        "        sign = data[0]\n",
        "        sequence = data[2:]\n",
        "    else:\n",
        "        sign = '+'\n",
        "\n",
        "    if sequence.isdigit():\n",
        "        k = int(sign + sequence)\n",
        "    else:\n",
        "        print(\"Неверный формат данных в файле.\")\n",
        "\n",
        "if k is not None:\n",
        "    print(\"Введенное число из файла:\", k)\n",
        "else:\n",
        "    print(\"Число не было успешно прочитано из файла.\")"
      ],
      "metadata": {
        "id": "-rUXnkPpaH72"
      },
      "execution_count": null,
      "outputs": []
    },
    {
      "cell_type": "markdown",
      "source": [
        "1.\tДан строковый файл. Создать новый строковый файл, содержащий все строки исходного файла наибольшей длины (в обратном порядке)."
      ],
      "metadata": {
        "id": "8N9mYg9LlOFb"
      }
    },
    {
      "cell_type": "code",
      "source": [
        "def mn_count_file():\n",
        "    with open(\"i.txt\", \"r\") as file:\n",
        "        data = file.readlines()\n",
        "        maxx = 0\n",
        "        s = []\n",
        "        for i in data:\n",
        "            if '\\n' in i:\n",
        "                i = i[:-1]\n",
        "            if maxx==len(i):\n",
        "                s.append(i)\n",
        "            elif maxx<len(i):\n",
        "                maxx = len(i)\n",
        "                s.clear()\n",
        "                s.append(i)\n",
        "    s.reverse()\n",
        "    output_file = open(\"output_file.txt\", \"w\")\n",
        "    for item in s:\n",
        "        output_file.write(str(item) + \"\\n\")\n",
        "\n",
        "mn_count_file()\n",
        "\n"
      ],
      "metadata": {
        "id": "0FvYbygJlOe-"
      },
      "execution_count": null,
      "outputs": []
    },
    {
      "cell_type": "markdown",
      "source": [
        "2.\tДан файл целых чисел, содержащий четное количество элементов. Удалить из данного файла первую половину элементов."
      ],
      "metadata": {
        "id": "IVYHLe77lOzl"
      }
    },
    {
      "cell_type": "code",
      "source": [
        "def funct():\n",
        "    with open(\"i.txt\", \"r\") as file:\n",
        "        data = file.read()\n",
        "    data = data.replace(\" \",\"\")\n",
        "    data = data[(len(data)//2):]\n",
        "    ff = open(\"i.txt\", \"w\")\n",
        "    for i in data:\n",
        "        ff.write(i + ' ')\n",
        "\n",
        "funct()"
      ],
      "metadata": {
        "id": "lK9saO1XlPG2"
      },
      "execution_count": null,
      "outputs": []
    },
    {
      "cell_type": "markdown",
      "source": [
        "3.\tДан файл целых чисел. Найти количество содержащихся в нем серий (то есть наборов последовательно расположенных одинаковых элементов). Например, для файла с элементами 1, 5, 5, 5, 4, 4, 5 результат равен 4."
      ],
      "metadata": {
        "id": "SaPEd9dOlPaN"
      }
    },
    {
      "cell_type": "code",
      "source": [
        "def funct():\n",
        "    with open(\"i.txt\", \"r\") as file:\n",
        "        data = file.read()\n",
        "    data = data.replace(\", \",\"\")\n",
        "    if len(data)==0:\n",
        "         return 0\n",
        "    s = 1\n",
        "    for i in range(len(data)-1):\n",
        "\n",
        "        if data[i]!= data[i+1]:\n",
        "            s += 1\n",
        "    return(s)\n",
        "\n",
        "\n",
        "print(funct())\n",
        "\n"
      ],
      "metadata": {
        "id": "zgNi3Jl1lPyD"
      },
      "execution_count": null,
      "outputs": []
    }
  ]
}